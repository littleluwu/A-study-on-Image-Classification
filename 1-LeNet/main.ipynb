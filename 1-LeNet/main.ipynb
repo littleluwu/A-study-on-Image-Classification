{
 "cells": [
  {
   "cell_type": "markdown",
   "metadata": {},
   "source": [
    "# **LeNet**"
   ]
  },
  {
   "cell_type": "markdown",
   "metadata": {},
   "source": [
    "## General Imports"
   ]
  },
  {
   "cell_type": "code",
   "execution_count": 1,
   "metadata": {},
   "outputs": [],
   "source": [
    "import torch\n",
    "import torch.nn as nn\n",
    "from torchvision import datasets, transforms\n",
    "from torch.utils.data import DataLoader"
   ]
  },
  {
   "cell_type": "markdown",
   "metadata": {},
   "source": [
    "## Choosing the device"
   ]
  },
  {
   "cell_type": "code",
   "execution_count": 2,
   "metadata": {},
   "outputs": [
    {
     "name": "stdout",
     "output_type": "stream",
     "text": [
      "Running on GPU(cuda)\n"
     ]
    }
   ],
   "source": [
    "if torch.cuda.is_available():\n",
    "    device = torch.device(\"cuda\")\n",
    "    print(\"Running on GPU(cuda)\")\n",
    "else:\n",
    "    device = torch.device(\"cpu\")\n",
    "    print(\"Running on CPU\")"
   ]
  },
  {
   "cell_type": "markdown",
   "metadata": {},
   "source": [
    "## The LeNet architecture"
   ]
  },
  {
   "cell_type": "code",
   "execution_count": 4,
   "metadata": {},
   "outputs": [],
   "source": [
    "class LeNet5(nn.Module):\n",
    "    def __init__(self):\n",
    "        super(LeNet5, self).__init__()\n",
    "        self.conv1 = nn.Conv2d(in_channels=1,out_channels=6,kernel_size=5,stride=1,padding=2)\n",
    "        self.conv2 = nn.Conv2d(in_channels=6,out_channels=16,kernel_size=5,stride=1)\n",
    "        self.conv3 = nn.Conv2d(in_channels=16,out_channels=120,kernel_size=5,stride=1)\n",
    "\n",
    "        self.pool1 = nn.AvgPool2d(kernel_size=2,stride=2)\n",
    "        self.pool2 = nn.AvgPool2d(kernel_size=2,stride=2)\n",
    "\n",
    "        self.fc1 = nn.Linear(in_features=120,out_features=84)\n",
    "        self.fc2 = nn.Linear(in_features=84,out_features=10)\n",
    "\n",
    "    def forward(self,x):\n",
    "        x = self.conv1(x)\n",
    "        x = nn.Tanh()(x)\n",
    "        x = self.pool1(x)\n",
    "\n",
    "        x = self.conv2(x)\n",
    "        x = nn.Tanh()(x)\n",
    "        x = self.pool2(x)\n",
    "\n",
    "        x = self.conv3(x)\n",
    "        x = nn.Flatten()(x)\n",
    "        x = nn.Tanh()(x)\n",
    "        x = self.fc1(x)\n",
    "        x = nn.Tanh()(x)\n",
    "        x = self.fc2(x)\n",
    "\n",
    "        output = torch.nn.functional.softmax(x,dim=1)\n",
    "        return output"
   ]
  },
  {
   "cell_type": "markdown",
   "metadata": {},
   "source": [
    "## Training and Testing functions"
   ]
  },
  {
   "cell_type": "code",
   "execution_count": 5,
   "metadata": {},
   "outputs": [],
   "source": [
    "def train(model, device, train_loader, optimizer, epoch, print_step):\n",
    "    for batch_idx, (img, label) in enumerate(train_loader):\n",
    "        img, label = img.to(device), label.to(device)\n",
    "        optimizer.zero_grad()\n",
    "        output = model(img)\n",
    "        \n",
    "        loss = torch.nn.CrossEntropyLoss()(output, label)\n",
    "        loss.backward()\n",
    "\n",
    "        optimizer.step()\n",
    "        if batch_idx % print_step == 0:\n",
    "            print('Train Epoch: {} [{}/{} ({:.0f}%)]\\tLoss: {:.6f}'.format(\n",
    "                epoch, batch_idx * len(img), len(train_loader.dataset),\n",
    "                100. * batch_idx / len(train_loader), loss.item()))"
   ]
  },
  {
   "cell_type": "code",
   "execution_count": 6,
   "metadata": {},
   "outputs": [],
   "source": [
    "def test(model, device, test_loader):\n",
    "    model.eval()\n",
    "    test_loss = 0\n",
    "    correct = 0\n",
    "    with torch.no_grad():\n",
    "        for img, label in test_loader:\n",
    "            img, label = img.to(device), label.to(device)\n",
    "            output = model(img)\n",
    "            test_loss += torch.nn.CrossEntropyLoss(reduction='sum')(output, label).item()\n",
    "            pred = output.argmax(dim=1, keepdim=True)\n",
    "            correct += pred.eq(label.view_as(pred)).sum().item()\n",
    "\n",
    "    test_loss /= len(test_loader.dataset)\n",
    "\n",
    "    print('\\nTest set: Average loss: {:.4f}, Accuracy: {}/{} ({:.2f}%)\\n'.format(\n",
    "        test_loss, correct, len(test_loader.dataset),\n",
    "        100. * correct / len(test_loader.dataset)))"
   ]
  },
  {
   "cell_type": "markdown",
   "metadata": {},
   "source": [
    "## Hyperparameters"
   ]
  },
  {
   "cell_type": "code",
   "execution_count": 7,
   "metadata": {},
   "outputs": [],
   "source": [
    "lr = 1e-2\n",
    "momentum = 0.9\n",
    "gamma = 0.9\n",
    "epochs = 10\n",
    "batch_size=64"
   ]
  },
  {
   "cell_type": "markdown",
   "metadata": {},
   "source": [
    "## Loading the data"
   ]
  },
  {
   "cell_type": "code",
   "execution_count": 10,
   "metadata": {},
   "outputs": [
    {
     "name": "stdout",
     "output_type": "stream",
     "text": [
      "Files already downloaded and verified\n"
     ]
    }
   ],
   "source": [
    "mnist_train = datasets.MNIST(root='../data',train=True,download=True, transform=transforms.ToTensor())\n",
    "mnist_test = datasets.MNIST(root='../data',train=False,transform=transforms.ToTensor())\n",
    "\n",
    "cifar100_train = datasets.CIFAR100(root='../data',train=True,download=True,transform=transforms.ToTensor())\n",
    "cifar100_test = datasets.MNIST(root='../data',train=False,transform=transforms.ToTensor())\n",
    "\n",
    "#imagenet_train = datasets.ImageNet(root='../data',train=True,download=True, transform=transforms.ToTensor())\n",
    "#imagenet_test = datasets.ImageNet(root='../data',train=False,transform=transforms.ToTensor())"
   ]
  },
  {
   "cell_type": "markdown",
   "metadata": {},
   "source": [
    "## Training the model"
   ]
  },
  {
   "cell_type": "code",
   "execution_count": 9,
   "metadata": {},
   "outputs": [
    {
     "name": "stdout",
     "output_type": "stream",
     "text": [
      "Train Epoch: 1 [0/60000 (0%)]\tLoss: 2.302020\n",
      "Train Epoch: 1 [8192/60000 (14%)]\tLoss: 2.301078\n",
      "Train Epoch: 1 [16384/60000 (27%)]\tLoss: 2.300002\n",
      "Train Epoch: 1 [24576/60000 (41%)]\tLoss: 2.294223\n",
      "Train Epoch: 1 [32768/60000 (55%)]\tLoss: 2.268214\n",
      "Train Epoch: 1 [40960/60000 (68%)]\tLoss: 2.127529\n",
      "Train Epoch: 1 [49152/60000 (82%)]\tLoss: 1.933382\n",
      "Train Epoch: 1 [57344/60000 (96%)]\tLoss: 1.763652\n",
      "\n",
      "Test set: Average loss: 1.7982, Accuracy: 7019/10000 (70.19%)\n",
      "\n",
      "Train Epoch: 2 [0/60000 (0%)]\tLoss: 1.796290\n",
      "Train Epoch: 2 [8192/60000 (14%)]\tLoss: 1.770450\n",
      "Train Epoch: 2 [16384/60000 (27%)]\tLoss: 1.651168\n",
      "Train Epoch: 2 [24576/60000 (41%)]\tLoss: 1.694643\n",
      "Train Epoch: 2 [32768/60000 (55%)]\tLoss: 1.614069\n",
      "Train Epoch: 2 [40960/60000 (68%)]\tLoss: 1.593203\n",
      "Train Epoch: 2 [49152/60000 (82%)]\tLoss: 1.675602\n",
      "Train Epoch: 2 [57344/60000 (96%)]\tLoss: 1.540626\n",
      "\n",
      "Test set: Average loss: 1.5657, Accuracy: 9149/10000 (91.49%)\n",
      "\n",
      "Train Epoch: 3 [0/60000 (0%)]\tLoss: 1.576176\n",
      "Train Epoch: 3 [8192/60000 (14%)]\tLoss: 1.624535\n",
      "Train Epoch: 3 [16384/60000 (27%)]\tLoss: 1.552278\n",
      "Train Epoch: 3 [24576/60000 (41%)]\tLoss: 1.630769\n",
      "Train Epoch: 3 [32768/60000 (55%)]\tLoss: 1.556740\n",
      "Train Epoch: 3 [40960/60000 (68%)]\tLoss: 1.559039\n",
      "Train Epoch: 3 [49152/60000 (82%)]\tLoss: 1.599651\n",
      "Train Epoch: 3 [57344/60000 (96%)]\tLoss: 1.512722\n",
      "\n",
      "Test set: Average loss: 1.5345, Accuracy: 9377/10000 (93.77%)\n",
      "\n",
      "Train Epoch: 4 [0/60000 (0%)]\tLoss: 1.549613\n",
      "Train Epoch: 4 [8192/60000 (14%)]\tLoss: 1.593392\n",
      "Train Epoch: 4 [16384/60000 (27%)]\tLoss: 1.521975\n",
      "Train Epoch: 4 [24576/60000 (41%)]\tLoss: 1.598325\n",
      "Train Epoch: 4 [32768/60000 (55%)]\tLoss: 1.544598\n",
      "Train Epoch: 4 [40960/60000 (68%)]\tLoss: 1.538461\n",
      "Train Epoch: 4 [49152/60000 (82%)]\tLoss: 1.569125\n",
      "Train Epoch: 4 [57344/60000 (96%)]\tLoss: 1.501899\n",
      "\n",
      "Test set: Average loss: 1.5195, Accuracy: 9510/10000 (95.10%)\n",
      "\n",
      "Train Epoch: 5 [0/60000 (0%)]\tLoss: 1.529997\n",
      "Train Epoch: 5 [8192/60000 (14%)]\tLoss: 1.581180\n",
      "Train Epoch: 5 [16384/60000 (27%)]\tLoss: 1.500982\n",
      "Train Epoch: 5 [24576/60000 (41%)]\tLoss: 1.563726\n",
      "Train Epoch: 5 [32768/60000 (55%)]\tLoss: 1.540620\n",
      "Train Epoch: 5 [40960/60000 (68%)]\tLoss: 1.521667\n",
      "Train Epoch: 5 [49152/60000 (82%)]\tLoss: 1.552140\n",
      "Train Epoch: 5 [57344/60000 (96%)]\tLoss: 1.492202\n",
      "\n",
      "Test set: Average loss: 1.5098, Accuracy: 9601/10000 (96.01%)\n",
      "\n",
      "Train Epoch: 6 [0/60000 (0%)]\tLoss: 1.521173\n",
      "Train Epoch: 6 [8192/60000 (14%)]\tLoss: 1.573098\n",
      "Train Epoch: 6 [16384/60000 (27%)]\tLoss: 1.492436\n",
      "Train Epoch: 6 [24576/60000 (41%)]\tLoss: 1.537271\n",
      "Train Epoch: 6 [32768/60000 (55%)]\tLoss: 1.538472\n",
      "Train Epoch: 6 [40960/60000 (68%)]\tLoss: 1.514132\n",
      "Train Epoch: 6 [49152/60000 (82%)]\tLoss: 1.544177\n",
      "Train Epoch: 6 [57344/60000 (96%)]\tLoss: 1.486326\n",
      "\n",
      "Test set: Average loss: 1.5034, Accuracy: 9645/10000 (96.45%)\n",
      "\n",
      "Train Epoch: 7 [0/60000 (0%)]\tLoss: 1.514418\n",
      "Train Epoch: 7 [8192/60000 (14%)]\tLoss: 1.565879\n",
      "Train Epoch: 7 [16384/60000 (27%)]\tLoss: 1.488647\n",
      "Train Epoch: 7 [24576/60000 (41%)]\tLoss: 1.524986\n",
      "Train Epoch: 7 [32768/60000 (55%)]\tLoss: 1.536339\n",
      "Train Epoch: 7 [40960/60000 (68%)]\tLoss: 1.510400\n",
      "Train Epoch: 7 [49152/60000 (82%)]\tLoss: 1.538452\n",
      "Train Epoch: 7 [57344/60000 (96%)]\tLoss: 1.483234\n",
      "\n",
      "Test set: Average loss: 1.4989, Accuracy: 9694/10000 (96.94%)\n",
      "\n",
      "Train Epoch: 8 [0/60000 (0%)]\tLoss: 1.507864\n",
      "Train Epoch: 8 [8192/60000 (14%)]\tLoss: 1.560530\n",
      "Train Epoch: 8 [16384/60000 (27%)]\tLoss: 1.486337\n",
      "Train Epoch: 8 [24576/60000 (41%)]\tLoss: 1.519562\n",
      "Train Epoch: 8 [32768/60000 (55%)]\tLoss: 1.533883\n",
      "Train Epoch: 8 [40960/60000 (68%)]\tLoss: 1.508393\n",
      "Train Epoch: 8 [49152/60000 (82%)]\tLoss: 1.532427\n",
      "Train Epoch: 8 [57344/60000 (96%)]\tLoss: 1.481502\n",
      "\n",
      "Test set: Average loss: 1.4957, Accuracy: 9721/10000 (97.21%)\n",
      "\n",
      "Train Epoch: 9 [0/60000 (0%)]\tLoss: 1.502762\n",
      "Train Epoch: 9 [8192/60000 (14%)]\tLoss: 1.557100\n",
      "Train Epoch: 9 [16384/60000 (27%)]\tLoss: 1.484213\n",
      "Train Epoch: 9 [24576/60000 (41%)]\tLoss: 1.516141\n",
      "Train Epoch: 9 [32768/60000 (55%)]\tLoss: 1.530995\n",
      "Train Epoch: 9 [40960/60000 (68%)]\tLoss: 1.507494\n",
      "Train Epoch: 9 [49152/60000 (82%)]\tLoss: 1.526497\n",
      "Train Epoch: 9 [57344/60000 (96%)]\tLoss: 1.480453\n",
      "\n",
      "Test set: Average loss: 1.4932, Accuracy: 9740/10000 (97.40%)\n",
      "\n",
      "Train Epoch: 10 [0/60000 (0%)]\tLoss: 1.499067\n",
      "Train Epoch: 10 [8192/60000 (14%)]\tLoss: 1.554380\n",
      "Train Epoch: 10 [16384/60000 (27%)]\tLoss: 1.482224\n",
      "Train Epoch: 10 [24576/60000 (41%)]\tLoss: 1.513452\n",
      "Train Epoch: 10 [32768/60000 (55%)]\tLoss: 1.527703\n",
      "Train Epoch: 10 [40960/60000 (68%)]\tLoss: 1.506890\n",
      "Train Epoch: 10 [49152/60000 (82%)]\tLoss: 1.520335\n",
      "Train Epoch: 10 [57344/60000 (96%)]\tLoss: 1.479672\n",
      "\n",
      "Test set: Average loss: 1.4912, Accuracy: 9760/10000 (97.60%)\n",
      "\n"
     ]
    }
   ],
   "source": [
    "model = LeNet5().to(device)\n",
    "optimizer = torch.optim.SGD(model.parameters(), lr=lr, momentum=momentum)\n",
    "scheduler = torch.optim.lr_scheduler.ExponentialLR(optimizer, gamma=gamma)\n",
    "\n",
    "train_loader = DataLoader(mnist_train, batch_size=batch_size)\n",
    "test_loader = DataLoader(mnist_test, batch_size=batch_size)\n",
    "\n",
    "for epoch in range(1, epochs + 1):\n",
    "        train(model, device, train_loader, optimizer, epoch, 128)\n",
    "        test(model, device, test_loader)\n",
    "        scheduler.step()\n",
    "torch.save(model.state_dict(), \"LeNet5.pt\")"
   ]
  }
 ],
 "metadata": {
  "kernelspec": {
   "display_name": "base",
   "language": "python",
   "name": "python3"
  },
  "language_info": {
   "codemirror_mode": {
    "name": "ipython",
    "version": 3
   },
   "file_extension": ".py",
   "mimetype": "text/x-python",
   "name": "python",
   "nbconvert_exporter": "python",
   "pygments_lexer": "ipython3",
   "version": "3.10.9"
  }
 },
 "nbformat": 4,
 "nbformat_minor": 2
}
